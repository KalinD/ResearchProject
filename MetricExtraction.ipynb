{
 "cells": [
  {
   "cell_type": "markdown",
   "metadata": {},
   "source": [
    "# Metric Extraction\n",
    "\n",
    "Now I need to extract the metrics that I want to measure and check if the have any relation to the convergence speed."
   ]
  },
  {
   "cell_type": "code",
   "execution_count": 1,
   "metadata": {
    "collapsed": false,
    "jupyter": {
     "outputs_hidden": false
    }
   },
   "outputs": [],
   "source": [
    "# %pip install numpy\n",
    "# %pip install pandas\n",
    "# %pip install tqdm\n",
    "# %pip install scipy\n",
    "import os\n",
    "import time\n",
    "import math\n",
    "import pickle\n",
    "import numpy as np\n",
    "import pandas as pd\n",
    "from tqdm import tqdm\n",
    "from scipy.sparse import dok_matrix\n",
    "\n",
    "import warnings\n",
    "warnings.filterwarnings(\"ignore\")"
   ]
  },
  {
   "cell_type": "code",
   "execution_count": 26,
   "outputs": [],
   "source": [
    "FILENAME = \"./matrices2_final.csv\""
   ],
   "metadata": {
    "collapsed": false
   }
  },
  {
   "cell_type": "code",
   "execution_count": 2,
   "metadata": {
    "collapsed": false,
    "jupyter": {
     "outputs_hidden": false
    }
   },
   "outputs": [],
   "source": [
    "def get_number_of_edges(matrix: dok_matrix) -> int:\n",
    "    \"\"\"\n",
    "    Gets the number of edges in a given matrix.\n",
    "\n",
    "    :param matrix: matrix to count the edges of\n",
    "    :return: the number of edges\n",
    "    \"\"\"\n",
    "    return matrix.count_nonzero()"
   ]
  },
  {
   "cell_type": "code",
   "execution_count": 3,
   "metadata": {
    "collapsed": false,
    "jupyter": {
     "outputs_hidden": false
    }
   },
   "outputs": [],
   "source": [
    "def get_number_of_nodes(matrix: dok_matrix) -> int:\n",
    "    \"\"\"\n",
    "    Gets the number of nodes (states) in a given matrix.\n",
    "\n",
    "    :param matrix: matrix to count the nodes of\n",
    "    :return: the number of nodes\n",
    "    \"\"\"\n",
    "    return matrix.get_shape()[0] ** 2"
   ]
  },
  {
   "cell_type": "code",
   "execution_count": 4,
   "metadata": {
    "collapsed": false,
    "jupyter": {
     "outputs_hidden": false
    }
   },
   "outputs": [],
   "source": [
    "def get_in_degree(degree_dict: dict, n: int) -> tuple:\n",
    "    \"\"\"\n",
    "    Calculate the average and maximum in-degree of a given matrix.\n",
    "\n",
    "    :param degree_dict: in degree dictionary\n",
    "    :param n: number of states o the matrix\n",
    "    :return: a tuple - (average, max), in-degree of the matrix\n",
    "    \"\"\"\n",
    "    total_sum = 0\n",
    "    maximum = 0\n",
    "    for key in degree_dict:\n",
    "        total_sum += degree_dict[key]\n",
    "        maximum = max(degree_dict[key], maximum)\n",
    "    return (total_sum / n), maximum"
   ]
  },
  {
   "cell_type": "code",
   "execution_count": 5,
   "metadata": {
    "collapsed": false,
    "jupyter": {
     "outputs_hidden": false
    }
   },
   "outputs": [],
   "source": [
    "def get_out_degree(degree_dict: dict, n: int) -> tuple:\n",
    "    \"\"\"\n",
    "    Calculate the average and maximum out-degree of a given matrix.\n",
    "\n",
    "    :param degree_dict: out degree dictionary\n",
    "    :param n: number of states o the matrix\n",
    "    :return: a tuple - (average, max), out-degree of the matrix\n",
    "    \"\"\"\n",
    "    total_sum = 0\n",
    "    maximum = 0\n",
    "    for key in degree_dict:\n",
    "        total_sum += degree_dict[key]\n",
    "        maximum = max(degree_dict[key], maximum)\n",
    "    return (total_sum / n), maximum"
   ]
  },
  {
   "cell_type": "code",
   "execution_count": 6,
   "metadata": {
    "collapsed": false,
    "jupyter": {
     "outputs_hidden": false
    }
   },
   "outputs": [],
   "source": [
    "def get_sle(matrix: dok_matrix) -> int:\n",
    "    \"\"\"\n",
    "    Get the second largest eigenvalue for a given matrix. We take the second largest because the largest is 1 for all of them and this does not give us any information. The second largest will also be the slowest to converge compared to the rest.\n",
    "\n",
    "    :param matrix: matrix to get the eigenvalue of\n",
    "    :return: the second largest eigenvalue\n",
    "    \"\"\"\n",
    "    values, vectors = np.linalg.eig(matrix.toarray())\n",
    "    values.sort()\n",
    "    return values[-2]"
   ]
  },
  {
   "cell_type": "code",
   "execution_count": 7,
   "metadata": {
    "collapsed": false,
    "jupyter": {
     "outputs_hidden": false
    }
   },
   "outputs": [],
   "source": [
    "def get_diameter_radius(from_to: dict, n: int) -> tuple:\n",
    "    \"\"\"\n",
    "    Get the diameter and the radius of a matrix. The eccentricity is the longest hopcount between a node and any other node. The diameter is the largest eccentricity and the radius is the smallest eccentricity.\n",
    "\n",
    "    :param from_to: dictionary with transitions\n",
    "    :param n: number of states o the matrix\n",
    "    :return: (diameter, radius)\n",
    "    \"\"\"\n",
    "    eccentricity = []\n",
    "    for start_node in range(n):\n",
    "        max_hopcount = 0\n",
    "        for destination_node in range(n):\n",
    "            hop_groups = [from_to[start_node]]\n",
    "            found = False\n",
    "            while not found:\n",
    "                if destination_node in hop_groups[-1]:\n",
    "                    max_hopcount = max(max_hopcount, len(hop_groups))\n",
    "                    found = True\n",
    "                else:\n",
    "                    hop_group = set()\n",
    "                    for node in hop_groups[-1]:\n",
    "                        hop_group.update(from_to[node])\n",
    "                    hop_groups.append(list(hop_group))\n",
    "        eccentricity.append(max_hopcount)\n",
    "    return max(eccentricity), min(eccentricity)"
   ]
  },
  {
   "cell_type": "code",
   "execution_count": 8,
   "metadata": {
    "collapsed": false,
    "jupyter": {
     "outputs_hidden": false
    }
   },
   "outputs": [],
   "source": [
    "def get_necessary_metrics(matrix: dok_matrix, n: int):\n",
    "    \"\"\"\n",
    "    Helping function. Reduces the times that I need to loop through the matrix.\n",
    "\n",
    "    :param matrix: to get the metrics for\n",
    "    :param n: number of states\n",
    "    :return:\n",
    "    \"\"\"\n",
    "    from_to = dict()\n",
    "    out_degree_dict = dict()\n",
    "    in_degree_dict = dict()\n",
    "    for i in range(n):\n",
    "        for j in range(n):\n",
    "            if matrix[i, j] != 0:\n",
    "                if i in from_to:\n",
    "                    from_to[i].append(j)\n",
    "                else:\n",
    "                    from_to[i] = [j]\n",
    "                if j in out_degree_dict:\n",
    "                    out_degree_dict[j] += 1\n",
    "                else:\n",
    "                    out_degree_dict[j] = 1\n",
    "                if i in in_degree_dict:\n",
    "                    in_degree_dict[i] += 1\n",
    "                else:\n",
    "                    in_degree_dict[i] = 1\n",
    "\n",
    "    return from_to, in_degree_dict, out_degree_dict"
   ]
  },
  {
   "cell_type": "code",
   "execution_count": 9,
   "metadata": {
    "collapsed": false,
    "jupyter": {
     "outputs_hidden": false
    }
   },
   "outputs": [],
   "source": [
    "def calculate_dif(vector1: list, vector2: list) -> float:\n",
    "    \"\"\"\n",
    "    Calculate the absolute difference between the two vectors.\n",
    "\n",
    "    :param vector1:\n",
    "    :param vector2:\n",
    "    :return:\n",
    "    \"\"\"\n",
    "    sum = 0\n",
    "    for i in range(len(vector1)):\n",
    "        sum += abs(vector2[i] - vector1[i])\n",
    "    return sum"
   ]
  },
  {
   "cell_type": "code",
   "execution_count": 10,
   "metadata": {
    "collapsed": false,
    "jupyter": {
     "outputs_hidden": false
    }
   },
   "outputs": [],
   "source": [
    "def get_index(vector: list, val: complex) -> int:\n",
    "    \"\"\"\n",
    "    Get the index of a value in a vector. Rounding after 15 decimals because of rounding error.\n",
    "\n",
    "    :param vector:\n",
    "    :param val:\n",
    "    :return: the index of the value in the vector or -1 if not found\n",
    "    \"\"\"\n",
    "    for i in range(len(vector)):\n",
    "        if round(vector[i].real, 15) == val.real and vector[i].imag == val.imag:\n",
    "            return i\n",
    "    return 0\n",
    "    return -1"
   ]
  },
  {
   "cell_type": "code",
   "execution_count": 11,
   "metadata": {
    "collapsed": false,
    "jupyter": {
     "outputs_hidden": false
    }
   },
   "outputs": [],
   "source": [
    "def get_convergence_speed(matrix: dok_matrix, n: int) -> float:\n",
    "    \"\"\"\n",
    "    Calculate the convergence speed of the matrix.\n",
    "\n",
    "    :param matrix: matrix to calculate the convergence speed for\n",
    "    :param n: number of states of the matrix\n",
    "    :return: the convergence speed, iteration count\n",
    "    \"\"\"\n",
    "\n",
    "    epsilon = 1 * (10 ** -4)\n",
    "\n",
    "    new_matrix = dok_matrix(matrix - np.identity(n))\n",
    "\n",
    "    vector = np.zeros(n)\n",
    "    vector[0] = 1\n",
    "\n",
    "    next_vector = new_matrix.dot(vector)\n",
    "\n",
    "    starting_time = time.time()\n",
    "    iter_count = 1\n",
    "    while calculate_dif(vector, next_vector) >= epsilon:\n",
    "        vector, next_vector = next_vector, new_matrix.dot(next_vector)\n",
    "        iter_count += 1\n",
    "    ending_time = time.time()\n",
    "    return ending_time - starting_time, iter_count"
   ]
  },
  {
   "cell_type": "code",
   "execution_count": 24,
   "metadata": {
    "collapsed": false,
    "jupyter": {
     "outputs_hidden": false
    }
   },
   "outputs": [],
   "source": [
    "def get_all_matrix_data(matrix: dok_matrix) -> list:\n",
    "    n = matrix.get_shape()[0]\n",
    "    from_to, in_degree_dict, out_degree_dict = get_necessary_metrics(matrix, n)\n",
    "    row = []\n",
    "    row.append(f\"{n}x{n}\")\n",
    "    row.append(get_number_of_nodes(matrix))\n",
    "    row.append(get_number_of_edges(matrix))\n",
    "    diameter, radius = get_diameter_radius(from_to, n)\n",
    "    row.append(diameter)\n",
    "    row.append(radius)\n",
    "    average_in, max_in = get_in_degree(in_degree_dict, n)\n",
    "    average_out, max_out = get_out_degree(out_degree_dict, n)\n",
    "    row.append(average_in)\n",
    "    row.append(max_in)\n",
    "    row.append(max_out)\n",
    "    row.append(get_sle(matrix))\n",
    "    time, iterations = get_convergence_speed(matrix, n)\n",
    "    row.append(time)\n",
    "    row.append(iterations)\n",
    "    return row"
   ]
  },
  {
   "cell_type": "code",
   "execution_count": 27,
   "metadata": {
    "collapsed": false,
    "jupyter": {
     "outputs_hidden": false
    }
   },
   "outputs": [
    {
     "name": "stderr",
     "output_type": "stream",
     "text": [
      "100%|██████████| 190/190 [17:32<00:00,  5.54s/it]\n"
     ]
    }
   ],
   "source": [
    "# sle = second largest eigenvalue\n",
    "COLUMNS = ['matrix', 'number_of_nodes', 'number_of_edges', 'diameter', 'radius',\n",
    "           'average_deg', 'max_in_deg', 'max_out_deg',\n",
    "           'sle', 'convergence_speed', 'convergence_iterations']\n",
    "data = pd.DataFrame(columns=COLUMNS)\n",
    "DIR = './data/generated2'\n",
    "\n",
    "for filename in tqdm(os.listdir(DIR)):\n",
    "    f = os.path.join(DIR, filename)\n",
    "\n",
    "    if os.path.isfile(f):\n",
    "        with open(f, \"rb\") as file:\n",
    "            matrices = pickle.load(file)\n",
    "            for matrix in matrices:\n",
    "                row = get_all_matrix_data(matrix)\n",
    "                new_data = pd.DataFrame(data=[row], columns=COLUMNS)\n",
    "                data = pd.concat([data, new_data], ignore_index=True)\n",
    "\n",
    "data.to_csv(FILENAME)"
   ]
  },
  {
   "cell_type": "code",
   "execution_count": null,
   "metadata": {
    "collapsed": false,
    "jupyter": {
     "outputs_hidden": false
    }
   },
   "outputs": [],
   "source": [
    "data = pd.read_csv(FILENAME)\n",
    "data.drop(['Unnamed: 0'], axis=1, inplace=True)\n",
    "norm_eigenvalues = []\n",
    "for eigenval in data['sle']:\n",
    "    num = complex(eigenval)\n",
    "    norm_eigenvalues.append(math.sqrt(num.real ** 2 + num.imag ** 2))\n",
    "data['norm_sle'] = norm_eigenvalues\n",
    "data.to_csv(FILENAME)\n",
    "data"
   ]
  },
  {
   "cell_type": "code",
   "execution_count": 15,
   "metadata": {
    "collapsed": false,
    "jupyter": {
     "outputs_hidden": false
    }
   },
   "outputs": [
    {
     "data": {
      "text/plain": "     matrix  number_of_nodes  number_of_edges  diameter  radius  \\\n1890  99x99             9801             7425         2       2   \n1891  99x99             9801             6930         2       2   \n1892  99x99             9801             6435         2       2   \n1893  99x99             9801             5940         2       2   \n1894  99x99             9801             5445         2       2   \n1895  99x99             9801             4950         2       2   \n1896  99x99             9801             4455         2       2   \n1897  99x99             9801             3960         2       2   \n1898  99x99             9801             3465         2       2   \n1899  99x99             9801             2970         2       2   \n\n      average_in_deg  average_out_deg  max_in_deg  max_out_deg  \\\n1890            75.0             75.0          75           85   \n1891            70.0             70.0          70           79   \n1892            65.0             65.0          65           75   \n1893            60.0             60.0          60           72   \n1894            55.0             55.0          55           70   \n1895            50.0             50.0          50           63   \n1896            45.0             45.0          45           56   \n1897            40.0             40.0          40           51   \n1898            35.0             35.0          35           47   \n1899            30.0             30.0          30           45   \n\n                                              sle  convergence_speed  \\\n1890  (0.09139257596053166+0.014212153789412907j)          23.700882   \n1891                     (0.10166385359350022+0j)          20.956913   \n1892                     (0.10951640414446907+0j)          18.323644   \n1893                     (0.10820041711862757+0j)          17.221383   \n1894   (0.11799701394008684+0.02087828516530641j)          13.784979   \n1895  (0.12199236082927312+0.038061319278715595j)          12.893341   \n1896                     (0.14368227971847636+0j)          10.052581   \n1897  (0.14374417480060664+0.003189491423819522j)           8.008495   \n1898   (0.1700483210899803+0.012543751482633824j)           6.791701   \n1899   (0.18149022596603726+0.03194380184124332j)           4.938289   \n\n      convergence_iterations  \n1890                    8229  \n1891                    7744  \n1892                    7275  \n1893                    7338  \n1894                    6445  \n1895                    6564  \n1896                    5686  \n1897                    4989  \n1898                    4740  \n1899                    3975  ",
      "text/html": "<div>\n<style scoped>\n    .dataframe tbody tr th:only-of-type {\n        vertical-align: middle;\n    }\n\n    .dataframe tbody tr th {\n        vertical-align: top;\n    }\n\n    .dataframe thead th {\n        text-align: right;\n    }\n</style>\n<table border=\"1\" class=\"dataframe\">\n  <thead>\n    <tr style=\"text-align: right;\">\n      <th></th>\n      <th>matrix</th>\n      <th>number_of_nodes</th>\n      <th>number_of_edges</th>\n      <th>diameter</th>\n      <th>radius</th>\n      <th>average_in_deg</th>\n      <th>average_out_deg</th>\n      <th>max_in_deg</th>\n      <th>max_out_deg</th>\n      <th>sle</th>\n      <th>convergence_speed</th>\n      <th>convergence_iterations</th>\n    </tr>\n  </thead>\n  <tbody>\n    <tr>\n      <th>1890</th>\n      <td>99x99</td>\n      <td>9801</td>\n      <td>7425</td>\n      <td>2</td>\n      <td>2</td>\n      <td>75.0</td>\n      <td>75.0</td>\n      <td>75</td>\n      <td>85</td>\n      <td>(0.09139257596053166+0.014212153789412907j)</td>\n      <td>23.700882</td>\n      <td>8229</td>\n    </tr>\n    <tr>\n      <th>1891</th>\n      <td>99x99</td>\n      <td>9801</td>\n      <td>6930</td>\n      <td>2</td>\n      <td>2</td>\n      <td>70.0</td>\n      <td>70.0</td>\n      <td>70</td>\n      <td>79</td>\n      <td>(0.10166385359350022+0j)</td>\n      <td>20.956913</td>\n      <td>7744</td>\n    </tr>\n    <tr>\n      <th>1892</th>\n      <td>99x99</td>\n      <td>9801</td>\n      <td>6435</td>\n      <td>2</td>\n      <td>2</td>\n      <td>65.0</td>\n      <td>65.0</td>\n      <td>65</td>\n      <td>75</td>\n      <td>(0.10951640414446907+0j)</td>\n      <td>18.323644</td>\n      <td>7275</td>\n    </tr>\n    <tr>\n      <th>1893</th>\n      <td>99x99</td>\n      <td>9801</td>\n      <td>5940</td>\n      <td>2</td>\n      <td>2</td>\n      <td>60.0</td>\n      <td>60.0</td>\n      <td>60</td>\n      <td>72</td>\n      <td>(0.10820041711862757+0j)</td>\n      <td>17.221383</td>\n      <td>7338</td>\n    </tr>\n    <tr>\n      <th>1894</th>\n      <td>99x99</td>\n      <td>9801</td>\n      <td>5445</td>\n      <td>2</td>\n      <td>2</td>\n      <td>55.0</td>\n      <td>55.0</td>\n      <td>55</td>\n      <td>70</td>\n      <td>(0.11799701394008684+0.02087828516530641j)</td>\n      <td>13.784979</td>\n      <td>6445</td>\n    </tr>\n    <tr>\n      <th>1895</th>\n      <td>99x99</td>\n      <td>9801</td>\n      <td>4950</td>\n      <td>2</td>\n      <td>2</td>\n      <td>50.0</td>\n      <td>50.0</td>\n      <td>50</td>\n      <td>63</td>\n      <td>(0.12199236082927312+0.038061319278715595j)</td>\n      <td>12.893341</td>\n      <td>6564</td>\n    </tr>\n    <tr>\n      <th>1896</th>\n      <td>99x99</td>\n      <td>9801</td>\n      <td>4455</td>\n      <td>2</td>\n      <td>2</td>\n      <td>45.0</td>\n      <td>45.0</td>\n      <td>45</td>\n      <td>56</td>\n      <td>(0.14368227971847636+0j)</td>\n      <td>10.052581</td>\n      <td>5686</td>\n    </tr>\n    <tr>\n      <th>1897</th>\n      <td>99x99</td>\n      <td>9801</td>\n      <td>3960</td>\n      <td>2</td>\n      <td>2</td>\n      <td>40.0</td>\n      <td>40.0</td>\n      <td>40</td>\n      <td>51</td>\n      <td>(0.14374417480060664+0.003189491423819522j)</td>\n      <td>8.008495</td>\n      <td>4989</td>\n    </tr>\n    <tr>\n      <th>1898</th>\n      <td>99x99</td>\n      <td>9801</td>\n      <td>3465</td>\n      <td>2</td>\n      <td>2</td>\n      <td>35.0</td>\n      <td>35.0</td>\n      <td>35</td>\n      <td>47</td>\n      <td>(0.1700483210899803+0.012543751482633824j)</td>\n      <td>6.791701</td>\n      <td>4740</td>\n    </tr>\n    <tr>\n      <th>1899</th>\n      <td>99x99</td>\n      <td>9801</td>\n      <td>2970</td>\n      <td>2</td>\n      <td>2</td>\n      <td>30.0</td>\n      <td>30.0</td>\n      <td>30</td>\n      <td>45</td>\n      <td>(0.18149022596603726+0.03194380184124332j)</td>\n      <td>4.938289</td>\n      <td>3975</td>\n    </tr>\n  </tbody>\n</table>\n</div>"
     },
     "execution_count": 15,
     "metadata": {},
     "output_type": "execute_result"
    }
   ],
   "source": [
    "data.tail(10)"
   ]
  },
  {
   "cell_type": "code",
   "execution_count": 23,
   "outputs": [],
   "source": [
    "data.to_csv('./matrices2_final.csv')"
   ],
   "metadata": {
    "collapsed": false
   }
  },
  {
   "cell_type": "markdown",
   "metadata": {},
   "source": [
    "## Extract the metrics for the downloaded files"
   ]
  },
  {
   "cell_type": "code",
   "execution_count": null,
   "metadata": {
    "collapsed": false,
    "jupyter": {
     "outputs_hidden": false
    }
   },
   "outputs": [],
   "source": [
    "def is_ergodic(matrix, n):\n",
    "    \"\"\"\n",
    "    An ergodic matrix is aperiodic and irreducible. By Wielandt's theorem if when the matrix is multiplied by itself m\n",
    "    times, where m = (n - 1) * (n - 1) + 1, and all its entries are positive then the matrix is ergodic. n is the number\n",
    "    of sates.\n",
    "\n",
    "    :param matrix: matrix to check\n",
    "    :return: true if the matrix is ergodic, false otherwise\n",
    "    \"\"\"\n",
    "    matrix = matrix.tocsr(copy=True)\n",
    "    m = (n - 1) * (n - 1) + 1\n",
    "    multiplicities = [matrix]\n",
    "    for i in range(int(math.log(m, 2))):\n",
    "        matrix = matrix.dot(matrix)\n",
    "        multiplicities.append(matrix)\n",
    "    index = len(multiplicities) - 1\n",
    "    res = None\n",
    "    while m > 0:\n",
    "        if m & 1:\n",
    "            if res is None:\n",
    "                res = multiplicities[index]\n",
    "            else:\n",
    "                res = res.dot(multiplicities[index])\n",
    "        index -= 1\n",
    "        m = m >> 1\n",
    "    return res.count_nonzero() == n * n"
   ]
  },
  {
   "cell_type": "code",
   "execution_count": null,
   "metadata": {
    "collapsed": false,
    "jupyter": {
     "outputs_hidden": false
    }
   },
   "outputs": [],
   "source": [
    "COLUMNS_DOWNLOAD = ['matrix_name', 'number_of_nodes', 'number_of_edges', 'diameter', 'radius', 'average_in_deg', 'average_out_deg', 'max_in_deg', 'max_out_deg', 'sle']\n",
    "downloaded_data = pd.DataFrame(columns=COLUMNS_DOWNLOAD)\n",
    "DIR_DOWNLOAD = './data/downloaded'\n",
    "\n",
    "i = 1\n",
    "for filename in os.listdir(DIR_DOWNLOAD):\n",
    "    f = os.path.join(DIR_DOWNLOAD, filename)\n",
    "    if not filename.endswith('.pickle'):\n",
    "        continue\n",
    "    if os.path.isfile(f):\n",
    "        print(f\"{i}: {filename}\")\n",
    "        i += 1\n",
    "        with open(f, \"rb\") as file:\n",
    "            try:\n",
    "                matrix = pickle.load(file)\n",
    "                n = matrix.get_shape()[0]\n",
    "                if not is_ergodic(matrix, n):\n",
    "                    print(\"Not Ergodic\")\n",
    "                    continue\n",
    "                row = get_all_matrix_data(matrix)\n",
    "            except MemoryError:\n",
    "                print(f\"File {filename}'s matrix is too big ({n}x{n})\")\n",
    "                continue\n",
    "            row[0] = filename\n",
    "            new_data = pd.DataFrame(data=[row], columns=COLUMNS_DOWNLOAD)\n",
    "            downloaded_data = pd.concat([downloaded_data, new_data], ignore_index=True)\n",
    "downloaded_data.to_csv(\"downloaded_with_metrics.csv\")"
   ]
  },
  {
   "cell_type": "code",
   "execution_count": null,
   "metadata": {
    "collapsed": false,
    "jupyter": {
     "outputs_hidden": false
    }
   },
   "outputs": [],
   "source": [
    "downloaded_data = downloaded_data.sort_values(by=['number_of_nodes'], ignore_index=True)\n",
    "downloaded_data.head()"
   ]
  },
  {
   "cell_type": "code",
   "execution_count": null,
   "metadata": {
    "collapsed": false,
    "jupyter": {
     "outputs_hidden": false
    }
   },
   "outputs": [],
   "source": [
    "downloaded_data.tail()"
   ]
  },
  {
   "cell_type": "code",
   "execution_count": null,
   "metadata": {
    "collapsed": false,
    "jupyter": {
     "outputs_hidden": false
    }
   },
   "outputs": [],
   "source": [
    "downloaded_data.to_csv(\"downloaded_with_metrics.csv\")"
   ]
  }
 ],
 "metadata": {
  "kernelspec": {
   "display_name": "Python",
   "language": "python",
   "name": "python3"
  },
  "language_info": {
   "codemirror_mode": {
    "name": "ipython",
    "version": 3
   },
   "file_extension": ".py",
   "mimetype": "text/x-python",
   "name": "python",
   "nbconvert_exporter": "python",
   "pygments_lexer": "ipython3",
   "version": "3.8.10"
  }
 },
 "nbformat": 4,
 "nbformat_minor": 4
}
