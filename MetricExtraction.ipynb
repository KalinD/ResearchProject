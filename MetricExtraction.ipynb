{
 "cells": [
  {
   "cell_type": "markdown",
   "metadata": {},
   "source": [
    "# Metric Extraction\n",
    "\n",
    "Now I need to extract the metrics that I want to measure and check if the have any relation to the convergence speed."
   ]
  },
  {
   "cell_type": "code",
   "execution_count": 36,
   "metadata": {
    "collapsed": false,
    "jupyter": {
     "outputs_hidden": false
    }
   },
   "outputs": [],
   "source": [
    "# %pip install numpy\n",
    "# %pip install pandas\n",
    "# %pip install tqdm\n",
    "# %pip install scipy\n",
    "import os\n",
    "import time\n",
    "import math\n",
    "import pickle\n",
    "import numpy as np\n",
    "import pandas as pd\n",
    "from tqdm import tqdm\n",
    "from scipy.sparse import dok_matrix\n",
    "\n",
    "import warnings\n",
    "warnings.filterwarnings(\"ignore\")"
   ]
  },
  {
   "cell_type": "code",
   "execution_count": 37,
   "outputs": [],
   "source": [
    "FILENAME = \"./matrices_final.csv\""
   ],
   "metadata": {
    "collapsed": false
   }
  },
  {
   "cell_type": "code",
   "execution_count": 38,
   "metadata": {
    "collapsed": false,
    "jupyter": {
     "outputs_hidden": false
    }
   },
   "outputs": [],
   "source": [
    "def get_number_of_edges(matrix: dok_matrix) -> int:\n",
    "    \"\"\"\n",
    "    Gets the number of edges in a given matrix.\n",
    "\n",
    "    :param matrix: matrix to count the edges of\n",
    "    :return: the number of edges\n",
    "    \"\"\"\n",
    "    return matrix.count_nonzero()"
   ]
  },
  {
   "cell_type": "code",
   "execution_count": 39,
   "metadata": {
    "collapsed": false,
    "jupyter": {
     "outputs_hidden": false
    }
   },
   "outputs": [],
   "source": [
    "def get_number_of_nodes(matrix: dok_matrix) -> int:\n",
    "    \"\"\"\n",
    "    Gets the number of nodes (states) in a given matrix.\n",
    "\n",
    "    :param matrix: matrix to count the nodes of\n",
    "    :return: the number of nodes\n",
    "    \"\"\"\n",
    "    return matrix.get_shape()[0] ** 2"
   ]
  },
  {
   "cell_type": "code",
   "execution_count": 40,
   "metadata": {
    "collapsed": false,
    "jupyter": {
     "outputs_hidden": false
    }
   },
   "outputs": [],
   "source": [
    "def get_in_degree(degree_dict: dict, n: int) -> tuple:\n",
    "    \"\"\"\n",
    "    Calculate the average and maximum in-degree of a given matrix.\n",
    "\n",
    "    :param degree_dict: in degree dictionary\n",
    "    :param n: number of states o the matrix\n",
    "    :return: a tuple - (average, max), in-degree of the matrix\n",
    "    \"\"\"\n",
    "    total_sum = 0\n",
    "    maximum = 0\n",
    "    for key in degree_dict:\n",
    "        total_sum += degree_dict[key]\n",
    "        maximum = max(degree_dict[key], maximum)\n",
    "    return (total_sum / n), maximum"
   ]
  },
  {
   "cell_type": "code",
   "execution_count": 41,
   "metadata": {
    "collapsed": false,
    "jupyter": {
     "outputs_hidden": false
    }
   },
   "outputs": [],
   "source": [
    "def get_out_degree(degree_dict: dict, n: int) -> tuple:\n",
    "    \"\"\"\n",
    "    Calculate the average and maximum out-degree of a given matrix.\n",
    "\n",
    "    :param degree_dict: out degree dictionary\n",
    "    :param n: number of states o the matrix\n",
    "    :return: a tuple - (average, max), out-degree of the matrix\n",
    "    \"\"\"\n",
    "    total_sum = 0\n",
    "    maximum = 0\n",
    "    for key in degree_dict:\n",
    "        total_sum += degree_dict[key]\n",
    "        maximum = max(degree_dict[key], maximum)\n",
    "    return (total_sum / n), maximum"
   ]
  },
  {
   "cell_type": "code",
   "execution_count": 42,
   "metadata": {
    "collapsed": false,
    "jupyter": {
     "outputs_hidden": false
    }
   },
   "outputs": [],
   "source": [
    "import math\n",
    "def get_sle(matrix: dok_matrix) -> int:\n",
    "    \"\"\"\n",
    "    Get the second largest eigenvalue for a given matrix. We take the second largest because the largest is 1 for all of them and this does not give us any information. The second largest will also be the slowest to converge compared to the rest.\n",
    "\n",
    "    :param matrix: matrix to get the eigenvalue of\n",
    "    :return: the second largest eigenvalue\n",
    "    \"\"\"\n",
    "    m = matrix.toarray()\n",
    "    if np.isnan(m).any():\n",
    "        print(\"Has NaN\")\n",
    "        print(matrix.shape)\n",
    "        for i in range(len(m)):\n",
    "            for j in range(len(m)):\n",
    "                if math.isnan(m[i][j]):\n",
    "                    print(f'[{i}, {j}] = {m[i][j]}')\n",
    "    if np.isinf(m).any():\n",
    "        print(\"Has Inf\")\n",
    "        print(m)\n",
    "    values, vectors = np.linalg.eig(m)\n",
    "    values.sort()\n",
    "    return values[-2]"
   ]
  },
  {
   "cell_type": "code",
   "execution_count": 43,
   "metadata": {
    "collapsed": false,
    "jupyter": {
     "outputs_hidden": false
    }
   },
   "outputs": [],
   "source": [
    "def get_diameter_radius(from_to: dict, n: int) -> tuple:\n",
    "    \"\"\"\n",
    "    Get the diameter and the radius of a matrix. The eccentricity is the longest hopcount between a node and any other node. The diameter is the largest eccentricity and the radius is the smallest eccentricity.\n",
    "\n",
    "    :param from_to: dictionary with transitions\n",
    "    :param n: number of states o the matrix\n",
    "    :return: (diameter, radius)\n",
    "    \"\"\"\n",
    "    eccentricity = []\n",
    "    for start_node in range(n):\n",
    "        max_hopcount = 0\n",
    "        for destination_node in range(n):\n",
    "            hop_groups = [from_to[start_node]]\n",
    "            found = False\n",
    "            while not found:\n",
    "                if destination_node in hop_groups[-1]:\n",
    "                    max_hopcount = max(max_hopcount, len(hop_groups))\n",
    "                    found = True\n",
    "                else:\n",
    "                    hop_group = set()\n",
    "                    for node in hop_groups[-1]:\n",
    "                        hop_group.update(from_to[node])\n",
    "                    hop_groups.append(list(hop_group))\n",
    "        eccentricity.append(max_hopcount)\n",
    "    return max(eccentricity), min(eccentricity)"
   ]
  },
  {
   "cell_type": "code",
   "execution_count": 44,
   "metadata": {
    "collapsed": false,
    "jupyter": {
     "outputs_hidden": false
    }
   },
   "outputs": [],
   "source": [
    "def get_necessary_metrics(matrix: dok_matrix, n: int):\n",
    "    \"\"\"\n",
    "    Helping function. Reduces the times that I need to loop through the matrix.\n",
    "\n",
    "    :param matrix: to get the metrics for\n",
    "    :param n: number of states\n",
    "    :return:\n",
    "    \"\"\"\n",
    "    from_to = dict()\n",
    "    out_degree_dict = dict()\n",
    "    in_degree_dict = dict()\n",
    "    for i in range(n):\n",
    "        for j in range(n):\n",
    "            if matrix[i, j] != 0:\n",
    "                if i in from_to:\n",
    "                    from_to[i].append(j)\n",
    "                else:\n",
    "                    from_to[i] = [j]\n",
    "                if j in out_degree_dict:\n",
    "                    out_degree_dict[j] += 1\n",
    "                else:\n",
    "                    out_degree_dict[j] = 1\n",
    "                if i in in_degree_dict:\n",
    "                    in_degree_dict[i] += 1\n",
    "                else:\n",
    "                    in_degree_dict[i] = 1\n",
    "\n",
    "    return from_to, in_degree_dict, out_degree_dict"
   ]
  },
  {
   "cell_type": "code",
   "execution_count": 45,
   "metadata": {
    "collapsed": false,
    "jupyter": {
     "outputs_hidden": false
    }
   },
   "outputs": [],
   "source": [
    "def calculate_dif(vector1: list, vector2: list) -> float:\n",
    "    \"\"\"\n",
    "    Calculate the absolute difference between the two vectors.\n",
    "\n",
    "    :param vector1:\n",
    "    :param vector2:\n",
    "    :return:\n",
    "    \"\"\"\n",
    "    sum = 0\n",
    "    for i in range(len(vector1)):\n",
    "        sum += abs(vector2[i] - vector1[i])\n",
    "    return sum"
   ]
  },
  {
   "cell_type": "code",
   "execution_count": 46,
   "metadata": {
    "collapsed": false,
    "jupyter": {
     "outputs_hidden": false
    }
   },
   "outputs": [],
   "source": [
    "def get_index(vector: list, val: complex) -> int:\n",
    "    \"\"\"\n",
    "    Get the index of a value in a vector. Rounding after 15 decimals because of rounding error.\n",
    "\n",
    "    :param vector:\n",
    "    :param val:\n",
    "    :return: the index of the value in the vector or -1 if not found\n",
    "    \"\"\"\n",
    "    for i in range(len(vector)):\n",
    "        if round(vector[i].real, 15) == val.real and vector[i].imag == val.imag:\n",
    "            return i\n",
    "    return 0\n",
    "    return -1"
   ]
  },
  {
   "cell_type": "code",
   "execution_count": 47,
   "metadata": {
    "collapsed": false,
    "jupyter": {
     "outputs_hidden": false
    }
   },
   "outputs": [],
   "source": [
    "def get_convergence_speed(matrix: dok_matrix, n: int) -> float:\n",
    "    \"\"\"\n",
    "    Calculate the convergence speed of the matrix.\n",
    "\n",
    "    :param matrix: matrix to calculate the convergence speed for\n",
    "    :param n: number of states of the matrix\n",
    "    :return: the convergence speed, iteration count\n",
    "    \"\"\"\n",
    "\n",
    "    epsilon = 1 * (10 ** -4)\n",
    "\n",
    "    vector = np.zeros(n)\n",
    "    vector[0] = 1\n",
    "\n",
    "    next_vector = vector * matrix\n",
    "    starting_time = time.time()\n",
    "    iter_count = 1\n",
    "    while calculate_dif(vector, next_vector) >= epsilon:\n",
    "        vector, next_vector = next_vector, next_vector * matrix\n",
    "        iter_count += 1\n",
    "    # print(vector)\n",
    "    # print(next_vector)\n",
    "    ending_time = time.time()\n",
    "    return ending_time - starting_time, iter_count"
   ]
  },
  {
   "cell_type": "code",
   "execution_count": 48,
   "outputs": [],
   "source": [
    "# matrix = dok_matrix([[0, 1, 0], [0, 1/2, 1/2], [1/2, 0, 1/2]])\n",
    "# print(get_convergence_speed(matrix, 3))"
   ],
   "metadata": {
    "collapsed": false
   }
  },
  {
   "cell_type": "code",
   "execution_count": 49,
   "metadata": {
    "collapsed": false,
    "jupyter": {
     "outputs_hidden": false
    }
   },
   "outputs": [],
   "source": [
    "def get_all_matrix_data(matrix: dok_matrix) -> list:\n",
    "    n = matrix.get_shape()[0]\n",
    "    from_to, in_degree_dict, out_degree_dict = get_necessary_metrics(matrix, n)\n",
    "    row = []\n",
    "    row.append(f\"{n}x{n}\")\n",
    "    row.append(get_number_of_nodes(matrix))\n",
    "    row.append(get_number_of_edges(matrix))\n",
    "    diameter, radius = get_diameter_radius(from_to, n)\n",
    "    row.append(diameter)\n",
    "    row.append(radius)\n",
    "    average_in, max_in = get_in_degree(in_degree_dict, n)\n",
    "    average_out, max_out = get_out_degree(out_degree_dict, n)\n",
    "    row.append(average_in)\n",
    "    row.append(max_in)\n",
    "    row.append(max_out)\n",
    "    sle = get_sle(matrix)\n",
    "    row.append(sle)\n",
    "    num = complex(sle)\n",
    "    row.append(math.sqrt(num.real ** 2 + num.imag ** 2))\n",
    "    time, iterations = get_convergence_speed(matrix, n)\n",
    "    row.append(time)\n",
    "    row.append(iterations)\n",
    "    return row"
   ]
  },
  {
   "cell_type": "code",
   "execution_count": 50,
   "metadata": {
    "collapsed": false,
    "jupyter": {
     "outputs_hidden": false
    }
   },
   "outputs": [
    {
     "name": "stderr",
     "output_type": "stream",
     "text": [
      "100%|██████████| 190/190 [16:52<00:00,  5.33s/it]\n"
     ]
    }
   ],
   "source": [
    "# sle = second largest eigenvalue\n",
    "COLUMNS = ['matrix', 'number_of_nodes', 'number_of_edges', 'diameter', 'radius',\n",
    "           'average_deg', 'max_in_deg', 'max_out_deg',\n",
    "           'sle', 'norm_sle', 'convergence_speed', 'convergence_iterations']\n",
    "data = pd.DataFrame(columns=COLUMNS)\n",
    "DIR = './data/generated'\n",
    "\n",
    "for filename in tqdm(os.listdir(DIR)):\n",
    "    f = os.path.join(DIR, filename)\n",
    "\n",
    "    if os.path.isfile(f):\n",
    "        with open(f, \"rb\") as file:\n",
    "            matrices = pickle.load(file)\n",
    "            for matrix in matrices:\n",
    "                row = get_all_matrix_data(matrix)\n",
    "                new_data = pd.DataFrame(data=[row], columns=COLUMNS)\n",
    "                data = pd.concat([data, new_data], ignore_index=True)\n",
    "\n",
    "data.to_csv(FILENAME)"
   ]
  },
  {
   "cell_type": "code",
   "execution_count": 51,
   "metadata": {
    "collapsed": false,
    "jupyter": {
     "outputs_hidden": false
    }
   },
   "outputs": [
    {
     "data": {
      "text/plain": "     matrix number_of_nodes number_of_edges diameter radius  average_deg  \\\n1890  99x99            9801            7425        2      2         75.0   \n1891  99x99            9801            6930        2      2         70.0   \n1892  99x99            9801            6435        2      2         65.0   \n1893  99x99            9801            5940        2      2         60.0   \n1894  99x99            9801            5445        2      2         55.0   \n1895  99x99            9801            4950        2      2         50.0   \n1896  99x99            9801            4455        2      2         45.0   \n1897  99x99            9801            3960        2      2         40.0   \n1898  99x99            9801            3465        2      2         35.0   \n1899  99x99            9801            2970        2      2         30.0   \n\n     max_in_deg max_out_deg                 sle  norm_sle  convergence_speed  \\\n1890         75          85  0.091393+0.014212j  0.092491           0.021090   \n1891         70          79  0.101664+0.000000j  0.101664           0.017760   \n1892         65          75  0.109516+0.000000j  0.109516           0.017045   \n1893         60          72  0.108200+0.000000j  0.108200           0.017086   \n1894         55          70  0.117997+0.020878j  0.119830           0.015735   \n1895         50          63  0.121992+0.038061j  0.127792           0.015039   \n1896         45          56  0.143682+0.000000j  0.143682           0.013547   \n1897         40          51  0.143744+0.003189j  0.143780           0.012963   \n1898         35          47  0.170048+0.012544j  0.170510           0.011000   \n1899         30          45  0.181490+0.031944j  0.184280           0.010600   \n\n     convergence_iterations  \n1890                      6  \n1891                      6  \n1892                      6  \n1893                      7  \n1894                      7  \n1895                      7  \n1896                      7  \n1897                      7  \n1898                      8  \n1899                      8  ",
      "text/html": "<div>\n<style scoped>\n    .dataframe tbody tr th:only-of-type {\n        vertical-align: middle;\n    }\n\n    .dataframe tbody tr th {\n        vertical-align: top;\n    }\n\n    .dataframe thead th {\n        text-align: right;\n    }\n</style>\n<table border=\"1\" class=\"dataframe\">\n  <thead>\n    <tr style=\"text-align: right;\">\n      <th></th>\n      <th>matrix</th>\n      <th>number_of_nodes</th>\n      <th>number_of_edges</th>\n      <th>diameter</th>\n      <th>radius</th>\n      <th>average_deg</th>\n      <th>max_in_deg</th>\n      <th>max_out_deg</th>\n      <th>sle</th>\n      <th>norm_sle</th>\n      <th>convergence_speed</th>\n      <th>convergence_iterations</th>\n    </tr>\n  </thead>\n  <tbody>\n    <tr>\n      <th>1890</th>\n      <td>99x99</td>\n      <td>9801</td>\n      <td>7425</td>\n      <td>2</td>\n      <td>2</td>\n      <td>75.0</td>\n      <td>75</td>\n      <td>85</td>\n      <td>0.091393+0.014212j</td>\n      <td>0.092491</td>\n      <td>0.021090</td>\n      <td>6</td>\n    </tr>\n    <tr>\n      <th>1891</th>\n      <td>99x99</td>\n      <td>9801</td>\n      <td>6930</td>\n      <td>2</td>\n      <td>2</td>\n      <td>70.0</td>\n      <td>70</td>\n      <td>79</td>\n      <td>0.101664+0.000000j</td>\n      <td>0.101664</td>\n      <td>0.017760</td>\n      <td>6</td>\n    </tr>\n    <tr>\n      <th>1892</th>\n      <td>99x99</td>\n      <td>9801</td>\n      <td>6435</td>\n      <td>2</td>\n      <td>2</td>\n      <td>65.0</td>\n      <td>65</td>\n      <td>75</td>\n      <td>0.109516+0.000000j</td>\n      <td>0.109516</td>\n      <td>0.017045</td>\n      <td>6</td>\n    </tr>\n    <tr>\n      <th>1893</th>\n      <td>99x99</td>\n      <td>9801</td>\n      <td>5940</td>\n      <td>2</td>\n      <td>2</td>\n      <td>60.0</td>\n      <td>60</td>\n      <td>72</td>\n      <td>0.108200+0.000000j</td>\n      <td>0.108200</td>\n      <td>0.017086</td>\n      <td>7</td>\n    </tr>\n    <tr>\n      <th>1894</th>\n      <td>99x99</td>\n      <td>9801</td>\n      <td>5445</td>\n      <td>2</td>\n      <td>2</td>\n      <td>55.0</td>\n      <td>55</td>\n      <td>70</td>\n      <td>0.117997+0.020878j</td>\n      <td>0.119830</td>\n      <td>0.015735</td>\n      <td>7</td>\n    </tr>\n    <tr>\n      <th>1895</th>\n      <td>99x99</td>\n      <td>9801</td>\n      <td>4950</td>\n      <td>2</td>\n      <td>2</td>\n      <td>50.0</td>\n      <td>50</td>\n      <td>63</td>\n      <td>0.121992+0.038061j</td>\n      <td>0.127792</td>\n      <td>0.015039</td>\n      <td>7</td>\n    </tr>\n    <tr>\n      <th>1896</th>\n      <td>99x99</td>\n      <td>9801</td>\n      <td>4455</td>\n      <td>2</td>\n      <td>2</td>\n      <td>45.0</td>\n      <td>45</td>\n      <td>56</td>\n      <td>0.143682+0.000000j</td>\n      <td>0.143682</td>\n      <td>0.013547</td>\n      <td>7</td>\n    </tr>\n    <tr>\n      <th>1897</th>\n      <td>99x99</td>\n      <td>9801</td>\n      <td>3960</td>\n      <td>2</td>\n      <td>2</td>\n      <td>40.0</td>\n      <td>40</td>\n      <td>51</td>\n      <td>0.143744+0.003189j</td>\n      <td>0.143780</td>\n      <td>0.012963</td>\n      <td>7</td>\n    </tr>\n    <tr>\n      <th>1898</th>\n      <td>99x99</td>\n      <td>9801</td>\n      <td>3465</td>\n      <td>2</td>\n      <td>2</td>\n      <td>35.0</td>\n      <td>35</td>\n      <td>47</td>\n      <td>0.170048+0.012544j</td>\n      <td>0.170510</td>\n      <td>0.011000</td>\n      <td>8</td>\n    </tr>\n    <tr>\n      <th>1899</th>\n      <td>99x99</td>\n      <td>9801</td>\n      <td>2970</td>\n      <td>2</td>\n      <td>2</td>\n      <td>30.0</td>\n      <td>30</td>\n      <td>45</td>\n      <td>0.181490+0.031944j</td>\n      <td>0.184280</td>\n      <td>0.010600</td>\n      <td>8</td>\n    </tr>\n  </tbody>\n</table>\n</div>"
     },
     "execution_count": 51,
     "metadata": {},
     "output_type": "execute_result"
    }
   ],
   "source": [
    "data.tail(10)"
   ]
  },
  {
   "cell_type": "code",
   "execution_count": 52,
   "outputs": [],
   "source": [
    "data.to_csv('./matrices_final.csv')"
   ],
   "metadata": {
    "collapsed": false
   }
  },
  {
   "cell_type": "code",
   "execution_count": 53,
   "outputs": [
    {
     "ename": "NameError",
     "evalue": "name 'sdasfkjlds' is not defined",
     "output_type": "error",
     "traceback": [
      "\u001B[1;31m---------------------------------------------------------------------------\u001B[0m",
      "\u001B[1;31mNameError\u001B[0m                                 Traceback (most recent call last)",
      "Cell \u001B[1;32mIn[53], line 1\u001B[0m\n\u001B[1;32m----> 1\u001B[0m \u001B[43msdasfkjlds\u001B[49m\n",
      "\u001B[1;31mNameError\u001B[0m: name 'sdasfkjlds' is not defined"
     ]
    }
   ],
   "source": [
    "sdasfkjlds"
   ],
   "metadata": {
    "collapsed": false
   }
  },
  {
   "cell_type": "markdown",
   "metadata": {},
   "source": [
    "## Extract the metrics for the downloaded files"
   ]
  },
  {
   "cell_type": "code",
   "execution_count": null,
   "metadata": {
    "collapsed": false,
    "jupyter": {
     "outputs_hidden": false
    }
   },
   "outputs": [],
   "source": [
    "def is_ergodic(matrix, n):\n",
    "    \"\"\"\n",
    "    An ergodic matrix is aperiodic and irreducible. By Wielandt's theorem if when the matrix is multiplied by itself m\n",
    "    times, where m = (n - 1) * (n - 1) + 1, and all its entries are positive then the matrix is ergodic. n is the number\n",
    "    of sates.\n",
    "\n",
    "    :param matrix: matrix to check\n",
    "    :return: true if the matrix is ergodic, false otherwise\n",
    "    \"\"\"\n",
    "    matrix = matrix.tocsr(copy=True)\n",
    "    m = (n - 1) * (n - 1) + 1\n",
    "    multiplicities = [matrix]\n",
    "    for i in range(int(math.log(m, 2))):\n",
    "        matrix = matrix.dot(matrix)\n",
    "        multiplicities.append(matrix)\n",
    "    index = len(multiplicities) - 1\n",
    "    res = None\n",
    "    while m > 0:\n",
    "        if m & 1:\n",
    "            if res is None:\n",
    "                res = multiplicities[index]\n",
    "            else:\n",
    "                res = res.dot(multiplicities[index])\n",
    "        index -= 1\n",
    "        m = m >> 1\n",
    "    return res.count_nonzero() == n * n"
   ]
  },
  {
   "cell_type": "code",
   "execution_count": null,
   "metadata": {
    "collapsed": false,
    "jupyter": {
     "outputs_hidden": false
    }
   },
   "outputs": [],
   "source": [
    "COLUMNS_DOWNLOAD = ['matrix_name', 'number_of_nodes', 'number_of_edges', 'diameter', 'radius', 'average_in_deg', 'average_out_deg', 'max_in_deg', 'max_out_deg', 'sle']\n",
    "downloaded_data = pd.DataFrame(columns=COLUMNS_DOWNLOAD)\n",
    "DIR_DOWNLOAD = './data/downloaded'\n",
    "\n",
    "i = 1\n",
    "for filename in os.listdir(DIR_DOWNLOAD):\n",
    "    f = os.path.join(DIR_DOWNLOAD, filename)\n",
    "    if not filename.endswith('.pickle'):\n",
    "        continue\n",
    "    if os.path.isfile(f):\n",
    "        print(f\"{i}: {filename}\")\n",
    "        i += 1\n",
    "        with open(f, \"rb\") as file:\n",
    "            try:\n",
    "                matrix = pickle.load(file)\n",
    "                n = matrix.get_shape()[0]\n",
    "                if not is_ergodic(matrix, n):\n",
    "                    print(\"Not Ergodic\")\n",
    "                    continue\n",
    "                row = get_all_matrix_data(matrix)\n",
    "            except MemoryError:\n",
    "                print(f\"File {filename}'s matrix is too big ({n}x{n})\")\n",
    "                continue\n",
    "            row[0] = filename\n",
    "            new_data = pd.DataFrame(data=[row], columns=COLUMNS_DOWNLOAD)\n",
    "            downloaded_data = pd.concat([downloaded_data, new_data], ignore_index=True)\n",
    "downloaded_data.to_csv(\"downloaded_with_metrics.csv\")"
   ]
  },
  {
   "cell_type": "code",
   "execution_count": null,
   "metadata": {
    "collapsed": false,
    "jupyter": {
     "outputs_hidden": false
    }
   },
   "outputs": [],
   "source": [
    "downloaded_data = downloaded_data.sort_values(by=['number_of_nodes'], ignore_index=True)\n",
    "downloaded_data.head()"
   ]
  },
  {
   "cell_type": "code",
   "execution_count": null,
   "metadata": {
    "collapsed": false,
    "jupyter": {
     "outputs_hidden": false
    }
   },
   "outputs": [],
   "source": [
    "downloaded_data.tail()"
   ]
  },
  {
   "cell_type": "code",
   "execution_count": null,
   "metadata": {
    "collapsed": false,
    "jupyter": {
     "outputs_hidden": false
    }
   },
   "outputs": [],
   "source": [
    "downloaded_data.to_csv(\"downloaded_with_metrics.csv\")"
   ]
  }
 ],
 "metadata": {
  "kernelspec": {
   "display_name": "Python",
   "language": "python",
   "name": "python3"
  },
  "language_info": {
   "codemirror_mode": {
    "name": "ipython",
    "version": 3
   },
   "file_extension": ".py",
   "mimetype": "text/x-python",
   "name": "python",
   "nbconvert_exporter": "python",
   "pygments_lexer": "ipython3",
   "version": "3.8.10"
  }
 },
 "nbformat": 4,
 "nbformat_minor": 4
}
