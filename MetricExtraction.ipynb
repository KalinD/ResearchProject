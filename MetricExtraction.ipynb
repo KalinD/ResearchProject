{
 "cells": [
  {
   "cell_type": "markdown",
   "metadata": {},
   "source": [
    "# Metric Extraction\n",
    "\n",
    "Now I need to extract the metrics that I want to measure and check if the have any relation to the convergence speed."
   ]
  },
  {
   "cell_type": "code",
   "execution_count": null,
   "metadata": {
    "collapsed": false,
    "jupyter": {
     "outputs_hidden": false
    }
   },
   "outputs": [],
   "source": [
    "# %pip install numpy\n",
    "# %pip install pandas\n",
    "# %pip install tqdm\n",
    "# %pip install scipy\n",
    "import os\n",
    "import time\n",
    "import math\n",
    "import pickle\n",
    "import numpy as np\n",
    "import pandas as pd\n",
    "from tqdm import tqdm\n",
    "from scipy.sparse import dok_matrix\n",
    "\n",
    "import warnings\n",
    "warnings.filterwarnings(\"ignore\")"
   ]
  },
  {
   "cell_type": "code",
   "execution_count": null,
   "metadata": {
    "collapsed": false,
    "jupyter": {
     "outputs_hidden": false
    }
   },
   "outputs": [],
   "source": [
    "def get_number_of_edges(matrix: dok_matrix) -> int:\n",
    "    \"\"\"\n",
    "    Gets the number of edges in a given matrix.\n",
    "\n",
    "    :param matrix: matrix to count the edges of\n",
    "    :return: the number of edges\n",
    "    \"\"\"\n",
    "    return matrix.count_nonzero()"
   ]
  },
  {
   "cell_type": "code",
   "execution_count": null,
   "metadata": {
    "collapsed": false,
    "jupyter": {
     "outputs_hidden": false
    }
   },
   "outputs": [],
   "source": [
    "def get_number_of_nodes(matrix: dok_matrix) -> int:\n",
    "    \"\"\"\n",
    "    Gets the number of nodes (states) in a given matrix.\n",
    "\n",
    "    :param matrix: matrix to count the nodes of\n",
    "    :return: the number of nodes\n",
    "    \"\"\"\n",
    "    return matrix.get_shape()[0] ** 2"
   ]
  },
  {
   "cell_type": "code",
   "execution_count": null,
   "metadata": {
    "collapsed": false,
    "jupyter": {
     "outputs_hidden": false
    }
   },
   "outputs": [],
   "source": [
    "def get_in_degree(degree_dict: dict, n: int) -> tuple:\n",
    "    \"\"\"\n",
    "    Calculate the average and maximum in-degree of a given matrix.\n",
    "\n",
    "    :param degree_dict: in degree dictionary\n",
    "    :param n: number of states o the matrix\n",
    "    :return: a tuple - (average, max), in-degree of the matrix\n",
    "    \"\"\"\n",
    "    total_sum = 0\n",
    "    maximum = 0\n",
    "    for key in degree_dict:\n",
    "        total_sum += degree_dict[key]\n",
    "        maximum = max(degree_dict[key], maximum)\n",
    "    return (total_sum / n), maximum"
   ]
  },
  {
   "cell_type": "code",
   "execution_count": null,
   "metadata": {
    "collapsed": false,
    "jupyter": {
     "outputs_hidden": false
    }
   },
   "outputs": [],
   "source": [
    "def get_out_degree(degree_dict: dict, n: int) -> tuple:\n",
    "    \"\"\"\n",
    "    Calculate the average and maximum out-degree of a given matrix.\n",
    "\n",
    "    :param degree_dict: out degree dictionary\n",
    "    :param n: number of states o the matrix\n",
    "    :return: a tuple - (average, max), out-degree of the matrix\n",
    "    \"\"\"\n",
    "    total_sum = 0\n",
    "    maximum = 0\n",
    "    for key in degree_dict:\n",
    "        total_sum += degree_dict[key]\n",
    "        maximum = max(degree_dict[key], maximum)\n",
    "    return (total_sum / n), maximum"
   ]
  },
  {
   "cell_type": "code",
   "execution_count": null,
   "metadata": {
    "collapsed": false,
    "jupyter": {
     "outputs_hidden": false
    }
   },
   "outputs": [],
   "source": [
    "def get_sle(matrix: dok_matrix) -> int:\n",
    "    \"\"\"\n",
    "    Get the second-largest eigenvalue for a given matrix. We take the second largest because the largest is 1 for all of them and this does not give us any information. The second largest will also be the slowest to converge compared to the rest.\n",
    "\n",
    "    :param matrix: matrix to get the eigenvalue of\n",
    "    :return: the second-largest eigenvalue\n",
    "    \"\"\"\n",
    "    m = matrix.toarray()\n",
    "    if np.isnan(m).any():\n",
    "        print(\"Has NaN\")\n",
    "        print(matrix.shape)\n",
    "        for i in range(len(m)):\n",
    "            for j in range(len(m)):\n",
    "                if math.isnan(m[i][j]):\n",
    "                    print(f'[{i}, {j}] = {m[i][j]}')\n",
    "    if np.isinf(m).any():\n",
    "        print(\"Has Inf\")\n",
    "        print(m)\n",
    "    values, vectors = np.linalg.eig(m)\n",
    "    values.sort()\n",
    "    return values[-2]"
   ]
  },
  {
   "cell_type": "code",
   "execution_count": null,
   "metadata": {
    "collapsed": false,
    "jupyter": {
     "outputs_hidden": false
    }
   },
   "outputs": [],
   "source": [
    "def get_diameter_radius(from_to: dict, n: int) -> tuple:\n",
    "    \"\"\"\n",
    "    Get the diameter and the radius of a matrix. The eccentricity is the longest hopcount between a node and any other node. The diameter is the largest eccentricity and the radius is the smallest eccentricity.\n",
    "\n",
    "    :param from_to: dictionary with transitions\n",
    "    :param n: number of states o the matrix\n",
    "    :return: (diameter, radius)\n",
    "    \"\"\"\n",
    "    eccentricity = []\n",
    "    for start_node in range(n):\n",
    "        max_hopcount = 0\n",
    "        for destination_node in range(n):\n",
    "            hop_groups = [from_to[start_node]]\n",
    "            found = False\n",
    "            while not found:\n",
    "                if destination_node in hop_groups[-1]:\n",
    "                    max_hopcount = max(max_hopcount, len(hop_groups))\n",
    "                    found = True\n",
    "                else:\n",
    "                    hop_group = set()\n",
    "                    for node in hop_groups[-1]:\n",
    "                        hop_group.update(from_to[node])\n",
    "                    hop_groups.append(list(hop_group))\n",
    "        eccentricity.append(max_hopcount)\n",
    "    return max(eccentricity), min(eccentricity)"
   ]
  },
  {
   "cell_type": "code",
   "execution_count": null,
   "metadata": {
    "collapsed": false,
    "jupyter": {
     "outputs_hidden": false
    }
   },
   "outputs": [],
   "source": [
    "def get_necessary_metrics(matrix: dok_matrix, n: int) -> (dict[int, list[int]], dict[int, int], dict[int, int]):\n",
    "    \"\"\"\n",
    "    Helping function. Reduces the times that I need to loop through the matrix.\n",
    "\n",
    "    :param matrix: to get the metrics for\n",
    "    :param n: number of states\n",
    "    :return:\n",
    "    \"\"\"\n",
    "    from_to = dict()\n",
    "    out_degree_dict = dict()\n",
    "    in_degree_dict = dict()\n",
    "    for i in range(n):\n",
    "        for j in range(n):\n",
    "            if matrix[i, j] != 0:\n",
    "                if i in from_to:\n",
    "                    from_to[i].append(j)\n",
    "                else:\n",
    "                    from_to[i] = [j]\n",
    "                if j in out_degree_dict:\n",
    "                    out_degree_dict[j] += 1\n",
    "                else:\n",
    "                    out_degree_dict[j] = 1\n",
    "                if i in in_degree_dict:\n",
    "                    in_degree_dict[i] += 1\n",
    "                else:\n",
    "                    in_degree_dict[i] = 1\n",
    "\n",
    "    return from_to, in_degree_dict, out_degree_dict"
   ]
  },
  {
   "cell_type": "code",
   "execution_count": null,
   "metadata": {
    "collapsed": false,
    "jupyter": {
     "outputs_hidden": false
    }
   },
   "outputs": [],
   "source": [
    "def calculate_dif(vector1: list, vector2: list) -> float:\n",
    "    \"\"\"\n",
    "    Calculate the absolute difference between the two vectors (probabilistic distributions).\n",
    "\n",
    "    :param vector1: first probabilistic distribution\n",
    "    :param vector2: second probabilistic distribution\n",
    "    :return: the sum of the absolute values between each vector value\n",
    "    \"\"\"\n",
    "    sum = 0\n",
    "    for i in range(len(vector1)):\n",
    "        sum += abs(vector2[i] - vector1[i])\n",
    "    return sum"
   ]
  },
  {
   "cell_type": "code",
   "execution_count": null,
   "metadata": {
    "collapsed": false,
    "jupyter": {
     "outputs_hidden": false
    }
   },
   "outputs": [],
   "source": [
    "def get_index(vector: list, val: complex) -> int:\n",
    "    \"\"\"\n",
    "    Get the index of a value in a vector. Rounding after 15 decimals because of rounding error.\n",
    "\n",
    "    :param vector: vector to search in\n",
    "    :param val: value being searched\n",
    "    :return: the index of the value in the vector or -1 if not found\n",
    "    \"\"\"\n",
    "    for i in range(len(vector)):\n",
    "        if round(vector[i].real, 15) == val.real and vector[i].imag == val.imag:\n",
    "            return i\n",
    "    return -1"
   ]
  },
  {
   "cell_type": "code",
   "execution_count": null,
   "outputs": [],
   "source": [
    "def get_stationary_distribution(matrix: dok_matrix) -> float:\n",
    "    \"\"\"\n",
    "    Get the stationary distribution of a given matrix\n",
    "\n",
    "    :param matrix: to find the stationary distribution of\n",
    "    :return: the stationary distribution\n",
    "    \"\"\"\n",
    "    transition_matrix_transp = matrix.T\n",
    "    eigenvals, eigenvects = np.linalg.eig(transition_matrix_transp)\n",
    "\n",
    "    close_to_1_idx = np.isclose(eigenvals,1)\n",
    "    target_eigenvect = eigenvects[:,close_to_1_idx]\n",
    "    target_eigenvect = target_eigenvect[:,0]\n",
    "\n",
    "    stationary_distrib = target_eigenvect / sum(target_eigenvect)\n",
    "    return stationary_distrib"
   ],
   "metadata": {
    "collapsed": false
   }
  },
  {
   "cell_type": "code",
   "execution_count": null,
   "metadata": {
    "collapsed": false,
    "jupyter": {
     "outputs_hidden": false
    }
   },
   "outputs": [],
   "source": [
    "def get_convergence_speed(matrix: dok_matrix, n: int) -> float:\n",
    "    \"\"\"\n",
    "    Calculate the convergence speed of the matrix.\n",
    "\n",
    "    :param matrix: matrix to calculate the convergence speed for\n",
    "    :param n: number of states of the matrix\n",
    "    :return: the convergence speed, iteration count\n",
    "    \"\"\"\n",
    "\n",
    "    epsilon = 1 * (10 ** -4)\n",
    "\n",
    "    vector = np.zeros(n)\n",
    "    vector[0] = 1\n",
    "\n",
    "    next_vector = vector * matrix\n",
    "    stationary = get_stationary_distribution(matrix.toarray())\n",
    "    starting_time = time.time()\n",
    "    iter_count = 1\n",
    "    while calculate_dif(stationary, next_vector) >= epsilon:\n",
    "        vector, next_vector = next_vector, next_vector * matrix\n",
    "        iter_count += 1\n",
    "    # print(vector)\n",
    "    # print(next_vector)\n",
    "    ending_time = time.time()\n",
    "    return ending_time - starting_time, iter_count"
   ]
  },
  {
   "cell_type": "code",
   "execution_count": null,
   "metadata": {
    "collapsed": false,
    "jupyter": {
     "outputs_hidden": false
    }
   },
   "outputs": [],
   "source": [
    "def get_all_matrix_data(matrix: dok_matrix) -> list:\n",
    "    \"\"\"\n",
    "    Calculate all required matrix metrics and puts them into a list to add easily into a dataframe.\n",
    "\n",
    "    :param matrix: matrix to get the metrics of\n",
    "    :return: graph-theoretic metrics of the matrix\n",
    "    \"\"\"\n",
    "    n = matrix.get_shape()[0]\n",
    "    from_to, in_degree_dict, out_degree_dict = get_necessary_metrics(matrix, n)\n",
    "    row = []\n",
    "    row.append(f\"{n}x{n}\")\n",
    "    row.append(get_number_of_nodes(matrix))\n",
    "    row.append(get_number_of_edges(matrix))\n",
    "    diameter, radius = get_diameter_radius(from_to, n)\n",
    "    row.append(diameter)\n",
    "    row.append(radius)\n",
    "    average_in, max_in = get_in_degree(in_degree_dict, n)\n",
    "    average_out, max_out = get_out_degree(out_degree_dict, n)\n",
    "    row.append(average_in)\n",
    "    row.append(max_in)\n",
    "    row.append(max_out)\n",
    "    sle = get_sle(matrix)\n",
    "    row.append(sle)\n",
    "    num = complex(sle)\n",
    "    row.append(math.sqrt(num.real ** 2 + num.imag ** 2))\n",
    "    time, iterations = get_convergence_speed(matrix, n)\n",
    "    row.append(time)\n",
    "    row.append(iterations)\n",
    "    return row"
   ]
  },
  {
   "cell_type": "code",
   "execution_count": null,
   "metadata": {
    "collapsed": false,
    "jupyter": {
     "outputs_hidden": false
    }
   },
   "outputs": [],
   "source": [
    "# sle = second largest eigenvalue\n",
    "DIR = './data'\n",
    "COLUMNS = ['matrix', 'number_of_nodes', 'number_of_edges', 'diameter', 'radius',\n",
    "           'average_deg', 'max_in_deg', 'max_out_deg',\n",
    "           'sle', 'norm_sle', 'convergence_speed', 'convergence_iterations']\n",
    "for index, dir in enumerate(os.listdir(DIR)):\n",
    "    data = pd.DataFrame(columns=COLUMNS)\n",
    "\n",
    "    folder_path = os.path.join(DIR, dir)\n",
    "    for filename in tqdm(os.listdir(folder_path)):\n",
    "        f = os.path.join(folder_path, filename)\n",
    "        if os.path.isfile(f):\n",
    "            with open(f, \"rb\") as file:\n",
    "                matrices = pickle.load(file)\n",
    "                for matrix in matrices:\n",
    "                    row = get_all_matrix_data(matrix)\n",
    "                    new_data = pd.DataFrame(data=[row], columns=COLUMNS)\n",
    "                    data = pd.concat([data, new_data], ignore_index=True)\n",
    "                    break\n",
    "\n",
    "    data.to_csv(f'dataset_{index + 1}.csv')"
   ]
  },
  {
   "cell_type": "markdown",
   "metadata": {},
   "source": [
    "## Extract the metrics for the downloaded files\n",
    "\n",
    "All downloaded files turned not to be ergodic. No point in running the following part."
   ]
  },
  {
   "cell_type": "code",
   "execution_count": null,
   "metadata": {
    "collapsed": false,
    "jupyter": {
     "outputs_hidden": false
    }
   },
   "outputs": [],
   "source": [
    "def is_ergodic(matrix, n):\n",
    "    \"\"\"\n",
    "    An ergodic matrix is aperiodic and irreducible. By Wielandt's theorem if when the matrix is multiplied by itself m\n",
    "    times, where m = (n - 1) * (n - 1) + 1, and all its entries are positive then the matrix is ergodic. n is the number\n",
    "    of sates.\n",
    "\n",
    "    :param matrix: matrix to check\n",
    "    :return: true if the matrix is ergodic, false otherwise\n",
    "    \"\"\"\n",
    "    matrix = matrix.tocsr(copy=True)\n",
    "    m = (n - 1) * (n - 1) + 1\n",
    "    multiplicities = [matrix]\n",
    "    for i in range(int(math.log(m, 2))):\n",
    "        matrix = matrix.dot(matrix)\n",
    "        multiplicities.append(matrix)\n",
    "    index = len(multiplicities) - 1\n",
    "    res = None\n",
    "    while m > 0:\n",
    "        if m & 1:\n",
    "            if res is None:\n",
    "                res = multiplicities[index]\n",
    "            else:\n",
    "                res = res.dot(multiplicities[index])\n",
    "        index -= 1\n",
    "        m = m >> 1\n",
    "    return res.count_nonzero() == n * n"
   ]
  },
  {
   "cell_type": "code",
   "execution_count": null,
   "metadata": {
    "collapsed": false,
    "jupyter": {
     "outputs_hidden": false
    }
   },
   "outputs": [],
   "source": [
    "COLUMNS_DOWNLOAD = ['matrix_name', 'number_of_nodes', 'number_of_edges', 'diameter', 'radius', 'average_in_deg', 'average_out_deg', 'max_in_deg', 'max_out_deg', 'sle']\n",
    "downloaded_data = pd.DataFrame(columns=COLUMNS_DOWNLOAD)\n",
    "DIR_DOWNLOAD = './data/downloaded'\n",
    "\n",
    "i = 1\n",
    "for filename in os.listdir(DIR_DOWNLOAD):\n",
    "    f = os.path.join(DIR_DOWNLOAD, filename)\n",
    "    if not filename.endswith('.pickle'):\n",
    "        continue\n",
    "    if os.path.isfile(f):\n",
    "        print(f\"{i}: {filename}\")\n",
    "        i += 1\n",
    "        with open(f, \"rb\") as file:\n",
    "            try:\n",
    "                matrix = pickle.load(file)\n",
    "                n = matrix.get_shape()[0]\n",
    "                if not is_ergodic(matrix, n):\n",
    "                    print(\"Not Ergodic\")\n",
    "                    continue\n",
    "                row = get_all_matrix_data(matrix)\n",
    "            except MemoryError:\n",
    "                print(f\"File {filename}'s matrix is too big ({n}x{n})\")\n",
    "                continue\n",
    "            row[0] = filename\n",
    "            new_data = pd.DataFrame(data=[row], columns=COLUMNS_DOWNLOAD)\n",
    "            downloaded_data = pd.concat([downloaded_data, new_data], ignore_index=True)\n",
    "downloaded_data.to_csv(\"downloaded_with_metrics.csv\")"
   ]
  },
  {
   "cell_type": "code",
   "execution_count": null,
   "metadata": {
    "collapsed": false,
    "jupyter": {
     "outputs_hidden": false
    }
   },
   "outputs": [],
   "source": [
    "downloaded_data = downloaded_data.sort_values(by=['number_of_nodes'], ignore_index=True)\n",
    "downloaded_data.head()"
   ]
  },
  {
   "cell_type": "code",
   "execution_count": null,
   "metadata": {
    "collapsed": false,
    "jupyter": {
     "outputs_hidden": false
    }
   },
   "outputs": [],
   "source": [
    "downloaded_data.tail()"
   ]
  },
  {
   "cell_type": "code",
   "execution_count": null,
   "metadata": {
    "collapsed": false,
    "jupyter": {
     "outputs_hidden": false
    }
   },
   "outputs": [],
   "source": [
    "downloaded_data.to_csv(\"downloaded_with_metrics.csv\")"
   ]
  }
 ],
 "metadata": {
  "kernelspec": {
   "display_name": "Python",
   "language": "python",
   "name": "python3"
  },
  "language_info": {
   "codemirror_mode": {
    "name": "ipython",
    "version": 3
   },
   "file_extension": ".py",
   "mimetype": "text/x-python",
   "name": "python",
   "nbconvert_exporter": "python",
   "pygments_lexer": "ipython3",
   "version": "3.8.10"
  }
 },
 "nbformat": 4,
 "nbformat_minor": 4
}
