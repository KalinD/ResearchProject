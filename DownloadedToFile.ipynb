{
 "cells": [
  {
   "cell_type": "markdown",
   "source": [],
   "metadata": {
    "collapsed": false
   }
  },
  {
   "cell_type": "code",
   "execution_count": 23,
   "outputs": [],
   "source": [
    "import os\n",
    "import re\n",
    "import pickle\n",
    "import numpy as np\n",
    "from scipy.sparse import dok_matrix\n",
    "from tqdm import tqdm"
   ],
   "metadata": {
    "collapsed": false,
    "pycharm": {
     "name": "#%%\n"
    }
   }
  },
  {
   "cell_type": "code",
   "execution_count": 24,
   "outputs": [],
   "source": [
    "def file_to_matrix(file):\n",
    "    matrix = None\n",
    "    while True:\n",
    "        line = file.readline()\n",
    "        if \"@nr_states\" in line:\n",
    "            n_states = int(file.readline())\n",
    "            matrix = dok_matrix((n_states, n_states), dtype=np.float64)\n",
    "        if \"state \" in line:\n",
    "            last = file.tell()\n",
    "            state = int(re.findall(r'\\d+', line)[0])\n",
    "            _ = file.readline() # Skip \"action 0\" line\n",
    "            line = file.readline()\n",
    "            while line and not \"state\" in line:\n",
    "                to_state = int(re.findall(r'\\d+', line)[0])\n",
    "                value = float(re.findall(r': \\d+\\.\\d+|: \\d+', line)[0][2:])\n",
    "                matrix[state, to_state] = value\n",
    "                last = file.tell()\n",
    "                line = file.readline()\n",
    "            file.seek(last)\n",
    "        if not line:\n",
    "            break\n",
    "    return matrix"
   ],
   "metadata": {
    "collapsed": false,
    "pycharm": {
     "name": "#%%\n"
    }
   }
  },
  {
   "cell_type": "code",
   "execution_count": 25,
   "outputs": [
    {
     "name": "stderr",
     "output_type": "stream",
     "text": [
      "100%|██████████| 56/56 [2:01:20<00:00, 130.01s/it]  \n"
     ]
    }
   ],
   "source": [
    "DIR = './data/downloaded'\n",
    "matrices = []\n",
    "\n",
    "for filename in tqdm(os.listdir(DIR)):\n",
    "    if not filename.lower().endswith('.drn'):\n",
    "        continue\n",
    "    f = os.path.join(DIR, filename)\n",
    "    if os.path.isfile(f):\n",
    "        with open(f, \"r\") as file:\n",
    "            try:\n",
    "                matrix = file_to_matrix(file)\n",
    "            except MemoryError:\n",
    "                print(f\"{filename} takes too much memory and it was skipped\")\n",
    "                continue\n",
    "            with open(f\"./data/downloaded/{filename[:-4]}.pickle\", 'wb') as save_file:\n",
    "                pickle.dump(matrix, save_file)\n",
    "            matrices.append(matrix)\n",
    "\n",
    "# MEMORY ERROR\n",
    "# with open(f\"./data/downloaded/matrices.pickle\", 'wb') as f:\n",
    "#     pickle.dump(matrices, f)"
   ],
   "metadata": {
    "collapsed": false,
    "pycharm": {
     "name": "#%%\n"
    }
   }
  },
  {
   "cell_type": "code",
   "execution_count": 26,
   "outputs": [],
   "source": [
    "# with open(f, \"rb\") as file:\n",
    "#     matrices = pickle.load(file)"
   ],
   "metadata": {
    "collapsed": false,
    "pycharm": {
     "name": "#%%\n"
    }
   }
  }
 ],
 "metadata": {
  "kernelspec": {
   "display_name": "Python 3",
   "language": "python",
   "name": "python3"
  },
  "language_info": {
   "codemirror_mode": {
    "name": "ipython",
    "version": 2
   },
   "file_extension": ".py",
   "mimetype": "text/x-python",
   "name": "python",
   "nbconvert_exporter": "python",
   "pygments_lexer": "ipython2",
   "version": "2.7.6"
  }
 },
 "nbformat": 4,
 "nbformat_minor": 0
}