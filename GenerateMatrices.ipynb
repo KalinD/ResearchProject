{
 "cells": [
  {
   "cell_type": "markdown",
   "metadata": {
    "collapsed": true
   },
   "source": [
    "# Matrix Generation\n",
    "\n",
    "We need to generate matrices that are irreducible and aperiodic."
   ]
  },
  {
   "cell_type": "code",
   "execution_count": 62,
   "outputs": [],
   "source": [
    "import math\n",
    "import random\n",
    "import pickle\n",
    "import numpy as np\n",
    "import pandas as pd\n",
    "from tqdm import tqdm\n",
    "from scipy.sparse import dok_matrix\n",
    "\n",
    "random.seed(4)"
   ],
   "metadata": {
    "collapsed": false
   }
  },
  {
   "cell_type": "code",
   "execution_count": 63,
   "outputs": [],
   "source": [
    "def is_ergodic(matrix: dok_matrix, n: int) -> bool:\n",
    "    \"\"\"\n",
    "    An ergodic matrix is aperiodic and irreducible. By Wielandt's theorem if when the matrix is multiplied by itself m\n",
    "    times, where m = (n - 1) * (n - 1) + 1, and all its entries are positive then the matrix is ergodic. n is the number\n",
    "    of sates.\n",
    "\n",
    "    :param matrix: matrix to check\n",
    "    :return: true if the matrix is ergodic, false otherwise\n",
    "    \"\"\"\n",
    "    matrix = matrix.tocsr(copy=True)\n",
    "    m = (n - 1) * (n - 1) + 1\n",
    "    multiplicities = [matrix]\n",
    "    for i in range(int(math.log(m, 2))):\n",
    "        matrix = matrix.dot(matrix)\n",
    "        multiplicities.append(matrix)\n",
    "    index = len(multiplicities) - 1\n",
    "    res = None\n",
    "    while m > 0:\n",
    "        if m & 1:\n",
    "            if res is None:\n",
    "                res = multiplicities[index]\n",
    "            else:\n",
    "                res = res.dot(multiplicities[index])\n",
    "        index -= 1\n",
    "        m = m >> 1\n",
    "    return res.count_nonzero() == n * n"
   ],
   "metadata": {
    "collapsed": false
   }
  },
  {
   "cell_type": "code",
   "execution_count": 64,
   "outputs": [
    {
     "name": "stdout",
     "output_type": "stream",
     "text": [
      "False\n",
      "True\n",
      "True\n",
      "False\n",
      "False\n",
      "True\n"
     ]
    }
   ],
   "source": [
    "print(is_ergodic(dok_matrix([[0.7, 0.3, 0], [0, 0, 1], [0, 0.6, 0.4]]), 3))     # False\n",
    "print(is_ergodic(dok_matrix([[0.7, 0.3, 0], [0, 0.5, 0.5], [0.4, 0.6, 0]]), 3)) # True\n",
    "print(is_ergodic(dok_matrix([[0.7, 0.3, 0], [0, 0, 1], [0.4, 0.6, 0]]), 3))     # True\n",
    "print(is_ergodic(dok_matrix([[0, 1, 0], [0, 0, 1], [1, 0, 0]]), 3))             # False\n",
    "print(is_ergodic(dok_matrix([[0, 1, 0], [0.5, 0, 0.5], [0, 1, 0]]), 3))         # False\n",
    "print(is_ergodic(dok_matrix([[0, 0.5, 0.5], [0, 0.5, 0.5], [1, 0, 0]]), 3))     # True"
   ],
   "metadata": {
    "collapsed": false
   }
  },
  {
   "cell_type": "code",
   "execution_count": 65,
   "outputs": [],
   "source": [
    "# def generate(n: int, sizes: list[int], p1: float, p2: float) -> list[list[list[int]]]:\n",
    "#     \"\"\"\n",
    "#     Generate matrices with random values in them. The values are between 0 and 1.\n",
    "#\n",
    "#     :param n: how many of each matrix size should be generated\n",
    "#     :param sizes: the sizes of the matrices that should be generated\n",
    "#     :return: the generated matrices\n",
    "#     \"\"\"\n",
    "#     all = []\n",
    "#     increase = (p2 - p1) / n\n",
    "#     for size in tqdm(sizes):\n",
    "#         i = 0\n",
    "#         matrices = []\n",
    "#         zeros_p = p1\n",
    "#         while i < n:\n",
    "#             matrix = dok_matrix((size, size), dtype=np.float64)\n",
    "#             for j in range(size):\n",
    "#                 s = 0\n",
    "#                 while s == 0:\n",
    "#                     row = random.choices(range(1, 101), k=size)\n",
    "#                     zeros = random.sample(range(0, size), int(size * zeros_p))\n",
    "#                     for index in zeros:\n",
    "#                         row[index] = 0\n",
    "#                     s = sum(row)\n",
    "#                 row = [(x / s) for x in row]\n",
    "#                 matrix[j] = row\n",
    "#             if not is_ergodic(matrix, size):\n",
    "#                 continue\n",
    "#             zeros_p += increase\n",
    "#             matrices.append(matrix)\n",
    "#             all.append(matrix)\n",
    "#             i += 1\n",
    "#         with open(f\"./data/generated/matrices_{size}_{n}.pickle\", 'wb') as f:\n",
    "#             pickle.dump(matrices, f)\n",
    "#     return all"
   ],
   "metadata": {
    "collapsed": false
   }
  },
  {
   "cell_type": "code",
   "execution_count": 66,
   "outputs": [],
   "source": [
    "def generate(n: int, sizes: list[int]) -> list[list[list[int]]]:\n",
    "    \"\"\"\n",
    "    Generate matrices with random values in them. The values are between 0 and 1.\n",
    "\n",
    "    :param n: how many of each matrix size should be generated\n",
    "    :param sizes: the sizes of the matrices that should be generated\n",
    "    :return: the generated matrices\n",
    "    \"\"\"\n",
    "    all = []\n",
    "    for size in tqdm(sizes):\n",
    "        i = 0\n",
    "        matrices = []\n",
    "        transitions_on_row = 2\n",
    "        while i < n:\n",
    "            matrix = dok_matrix((size, size), dtype=np.float64)\n",
    "            indices = np.random.choice(size, size=size, replace=False)\n",
    "            last = 0\n",
    "            for index in indices:\n",
    "                matrix[last, index] = 1\n",
    "                last = index\n",
    "            for _ in range(min(transitions_on_row - 1, size)):\n",
    "                indices = np.random.choice(size, size=size, replace=False)\n",
    "                for (row, col) in enumerate(indices):\n",
    "                    matrix[row, col] = 1\n",
    "            if not is_ergodic(matrix, size):\n",
    "                continue\n",
    "            matrices.append(matrix)\n",
    "            all.append(matrix)\n",
    "            i += 1\n",
    "        with open(f\"./data/generated2/matrices_{size}_{n}.pickle\", 'wb') as f:\n",
    "            pickle.dump(matrices, f)\n",
    "    return all"
   ],
   "metadata": {
    "collapsed": false
   }
  },
  {
   "cell_type": "code",
   "execution_count": 67,
   "outputs": [
    {
     "name": "stderr",
     "output_type": "stream",
     "text": [
      "100%|██████████| 190/190 [02:29<00:00,  1.27it/s]\n"
     ]
    }
   ],
   "source": [
    "matrices = generate(10, range(10, 200))"
   ],
   "metadata": {
    "collapsed": false
   }
  },
  {
   "cell_type": "code",
   "execution_count": 67,
   "outputs": [],
   "source": [],
   "metadata": {
    "collapsed": false
   }
  }
 ],
 "metadata": {
  "kernelspec": {
   "display_name": "Python 3",
   "language": "python",
   "name": "python3"
  },
  "language_info": {
   "codemirror_mode": {
    "name": "ipython",
    "version": 2
   },
   "file_extension": ".py",
   "mimetype": "text/x-python",
   "name": "python",
   "nbconvert_exporter": "python",
   "pygments_lexer": "ipython2",
   "version": "2.7.6"
  }
 },
 "nbformat": 4,
 "nbformat_minor": 0
}
